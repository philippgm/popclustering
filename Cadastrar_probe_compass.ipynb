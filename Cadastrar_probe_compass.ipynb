{
 "cells": [
  {
   "cell_type": "code",
   "execution_count": 1,
   "metadata": {},
   "outputs": [],
   "source": [
    "fgh = {\n",
    "\n",
    "    \"loglevel\": \"info\",\n",
    "\n",
    "    \"cert_file\": \"/config/cert/server.crt\",\n",
    "\n",
    "    \"host\": \"target-manager\",\n",
    "\n",
    "    \"domain\": \"atlas.winet.dcc.ufmg.br\",\n",
    "\n",
    "    \"ca_certs\": \"/config/cert/ca.crt\",\n",
    "\n",
    "    \"ripe_api_key\": \"\",\n",
    "\n",
    "    \"query_log_path\": \"/config/query.log\",\n",
    "\n",
    "    \"nameservers\": [\n",
    "\n",
    "        \"127.0.0.1\"\n",
    "\n",
    "    ],\n",
    "\n",
    "    \"ttl\": 3600,\n",
    "\n",
    "    \"soa\": \"atlas.winet.dcc.ufmg.br 20181017 7200 3600 7200 120\",\n",
    "\n",
    "    \"handlers\": [\n",
    "\n",
    "\n",
    "    ],\n",
    "\n",
    "    \"valid_networks\": \"/config/target_files/valid_networks.txt\",\n",
    "\n",
    "    \"admins\": \"/config/target_files/admins.txt\",\n",
    "\n",
    "    \"pkey_file\": \"/config/cert/server.key\",\n",
    "\n",
    "    \"valid_names\": \"/config/target_files/valid_names.txt\"\n",
    "\n",
    "}\n"
   ]
  },
  {
   "cell_type": "code",
   "execution_count": 2,
   "metadata": {},
   "outputs": [],
   "source": [
    "import json\n",
    "count = 0\n",
    "lista = list()\n",
    "with open(\"Tratamento de dados-Barsand/pdns.prb\")as arq:\n",
    "    for d in arq:\n",
    "            lista.append(d)\n",
    "            count+=1\n",
    "            \n",
    "\n",
    "with open(\"atlasdns-setup.json\",\"w\") as arq:\n",
    "        \n",
    "    for i in range(1,101):\n",
    "        a = {\n",
    "\n",
    "                    \"file\": \"/config/target_files/ipaddr_lists/targets.txt\",\n",
    "\n",
    "                    \"qtype\": \"A\",\n",
    "\n",
    "                    \"users\": \"/config/target_files/allowed_users0.txt\",\n",
    "\n",
    "                    \"qname\": \"hitlist.atlas.winet.dcc.ufmg.br\",\n",
    "\n",
    "                }\n",
    "        a[\"file\"] = \"/config/target_files/ipaddr_lists/targets\"+str(i)+\".txt\"\n",
    "        a[\"qname\"] = \"popcluster\"+str(i)+\".atlas.winet.dcc.ufmg.br\"\n",
    "        a[\"vp_specs\"] = dict()\n",
    "        for j in range(500,len(lista)):\n",
    "            a[\"vp_specs\"][lista[j]] = \"/config/target_files/ipaddr_lists/targets\"+str(i)+\".txt\"\n",
    "        fgh[\"handlers\"].append(a)\n",
    "    print(json.dumps(fgh,indent = 4),file=arq)"
   ]
  }
 ],
 "metadata": {
  "interpreter": {
   "hash": "31f2aee4e71d21fbe5cf8b01ff0e069b9275f58929596ceb00d14d90e3e16cd6"
  },
  "kernelspec": {
   "display_name": "Python 3.6.9 64-bit",
   "language": "python",
   "name": "python3"
  },
  "language_info": {
   "codemirror_mode": {
    "name": "ipython",
    "version": 3
   },
   "file_extension": ".py",
   "mimetype": "text/x-python",
   "name": "python",
   "nbconvert_exporter": "python",
   "pygments_lexer": "ipython3",
   "version": "3.6.9"
  },
  "orig_nbformat": 4
 },
 "nbformat": 4,
 "nbformat_minor": 2
}
