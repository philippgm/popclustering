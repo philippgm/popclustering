{
 "cells": [
  {
   "cell_type": "code",
   "execution_count": 2,
   "metadata": {},
   "outputs": [],
   "source": [
    "import requests\n",
    "import json\n",
    "import sqlite3\n",
    "import multiprocessing as mp\n",
    "import os\n",
    "from datetime import datetime,timedelta\n",
    "from datetime import date\n",
    "import time\n",
    "import bisect"
   ]
  },
  {
   "cell_type": "code",
   "execution_count": 2,
   "metadata": {},
   "outputs": [],
   "source": [
    "###################### Cria tabela para measurements  #####################\n",
    "\n",
    "con = sqlite3.connect(\"../Database/MeasurementsRIPEAtlas.db\")\n",
    "cur = con.cursor()\n",
    "cur.execute('''create table MeasurementsNoProcessed(id integer,target text,date text,type text, primary key(id) )''')\n",
    "con.close()"
   ]
  },
  {
   "cell_type": "code",
   "execution_count": 3,
   "metadata": {},
   "outputs": [],
   "source": [
    "con = sqlite3.connect(\"../Database/MeasurementsRIPEAtlas.db\")\n",
    "cur = con.cursor()\n",
    "cur.execute('''create table AllMeasurementsDone(id integer,target text,date text,type text, primary key(id) )''')\n",
    "con.close()"
   ]
  },
  {
   "cell_type": "code",
   "execution_count": 28,
   "metadata": {},
   "outputs": [],
   "source": [
    "con = sqlite3.connect(\"../Database/MeasurementsRIPEAtlas.db\")\n",
    "cur = con.cursor()\n",
    "cur.execute('''create table Results (group_id text, dst_addr text, src_addr text, date text,type text, prb_id integer, ttl integer, rtt real,primary key(group_id, dst_addr, prb_id))''')\n",
    "con.close()"
   ]
  },
  {
   "cell_type": "code",
   "execution_count": 27,
   "metadata": {},
   "outputs": [],
   "source": [
    "con = sqlite3.connect(\"../Database/MeasurementsRIPEAtlas.db\")\n",
    "cur = con.cursor()\n",
    "cur.execute(\"DROP TABLE Result\")\n",
    "measurements = cur.fetchall()\n",
    "con.commit()\n",
    "con.close()"
   ]
  },
  {
   "cell_type": "code",
   "execution_count": null,
   "metadata": {},
   "outputs": [],
   "source": [
    "###################### Cria tabela para resultados de measurements  #####################\n",
    "\n",
    "\n",
    "\n",
    "con = sqlite3.connect(\"../Database/MeasurementAndProbesbo.db\")\n",
    "cur = con.cursor()\n",
    "cur.execute('''create table Results (group_id text, dst_addr text, src_addr text, date text,type text, prb_id integer, ttl integer,primary key(group_id, dst_addr, src_addr))''')\n",
    "con.close()"
   ]
  },
  {
   "cell_type": "code",
   "execution_count": 10,
   "metadata": {},
   "outputs": [
    {
     "name": "stdout",
     "output_type": "stream",
     "text": [
      "6739\n"
     ]
    }
   ],
   "source": [
    "###################### Faz consulta de measuremente já criado #####################\n",
    "con = sqlite3.connect('../Database/MeasurementsRIPEAtlas.db')\n",
    "cur = con.cursor()\n",
    "cur.execute('select * from AllMeasurementsDone')\n",
    "a = cur.fetchall() \n",
    "print(len(a))\n",
    "con.close()"
   ]
  },
  {
   "cell_type": "code",
   "execution_count": 10,
   "metadata": {},
   "outputs": [
    {
     "name": "stdout",
     "output_type": "stream",
     "text": [
      "['192.168.201.137']\n",
      "9748544\n"
     ]
    }
   ],
   "source": [
    "###################### Faz consulta de resultados de measuremente já criado  #####################\n",
    "import sqlite3\n",
    "import ipaddress\n",
    "f = list()\n",
    "f.append(str(ipaddress.IPv4Address(3232287113)))\n",
    "# f.append(str(ipaddress.IPv4Address(2572954617)))\n",
    "# f.append(str(ipaddress.IPv4Address(3232258275)))\n",
    "# f.append(str(ipaddress.IPv4Address(3232235639)))\n",
    "# f.append(str(ipaddress.IPv4Address(3232235622)))\n",
    "print(f)\n",
    "con = sqlite3.connect('../Database/MeasurementAndProbes.db')\n",
    "cur = con.cursor()\n",
    "for i in f:\n",
    "    cur.execute(\"select * from Results\")\n",
    "    a = cur.fetchall() \n",
    "    print(len(a))\n",
    "con.close()"
   ]
  },
  {
   "cell_type": "code",
   "execution_count": null,
   "metadata": {},
   "outputs": [
    {
     "name": "stdout",
     "output_type": "stream",
     "text": [
      "[(22802,), (50488,)]\n"
     ]
    }
   ],
   "source": [
    "import sqlite3\n",
    "con = sqlite3.connect('../Database/MeasurementAndProbes.db')\n",
    "# ip = [\"192.168.50.1\",\"10.6.8.2\",\"192.168.0.3\",\"192.168.10.3\",\"192.168.44.1\",\"192.168.0.6\",\"192.168.10.7\",\"192.168.0.8\",\"10.0.0.9\",\"83.219.200.10\"]\n",
    "ip = [\"192.168.0.6\",]\n",
    "cur = con.cursor()\n",
    "for i in ip:\n",
    "    cur.execute(\"select DISTINCT prb_id from Results where src_addr=:values\",{\"values\":i})\n",
    "    a = cur.fetchall() \n",
    "    print(a)\n",
    "con.close()"
   ]
  },
  {
   "cell_type": "code",
   "execution_count": 2,
   "metadata": {},
   "outputs": [
    {
     "name": "stdout",
     "output_type": "stream",
     "text": [
      "[(1001780,), (1002171,), (10027,), (1314,), (144,), (1528,), (209,), (2305,), (2322,), (2325,), (2374,), (28487,), (329,), (3326,), (3344,), (3395,), (3441,), (3474,), (3613,), (4041,), (4127,), (4148,), (4290,), (4335,), (4449,), (4534,), (4602,), (4653,), (4712,), (4783,), (507,), (51315,), (639,), (646,), (651,), (851,), (901,), (999,), (1002122,), (1226,), (1232,), (14123,), (2326,), (2968,), (3099,), (3307,), (3413,), (3752,), (383,), (4101,), (4415,), (4659,), (4741,), (656,), (767,), (842,), (928,), (95,), (952,), (1002006,), (2044,), (3379,), (3468,), (4473,), (4482,), (4726,), (4842,), (52999,), (721,), (750,), (1002133,), (3884,), (395,), (4040,), (4158,), (4575,), (1252,), (14122,), (3670,), (4155,), (4405,), (4539,), (1493,), (1344,), (3977,), (4274,), (1457,), (53379,), (385,), (1002093,), (10099,), (10179,), (10222,), (10477,), (10554,), (10564,), (10587,), (10688,), (10777,), (10904,), (11050,), (11066,), (11149,), (11179,), (11243,), (11266,), (11289,), (11350,), (11440,), (11487,), (11621,), (11633,), (11691,), (11864,), (12349,), (12617,), (12873,), (13077,), (13200,), (13229,), (13411,), (13469,), (13477,), (14080,), (14242,), (14244,), (14387,), (14587,), (14843,), (14973,), (16083,), (16163,), (16234,), (16300,), (16576,), (16583,), (21377,), (54513,), (54606,), (6295,), (6833,), (6944,), (6953,), (6954,), (10210,), (10350,), (10403,), (10443,), (11162,), (11174,), (11608,), (11722,), (12808,), (13396,), (14213,), (14531,), (15430,), (6946,), (6947,), (10031,), (10237,), (10338,), (10667,), (11484,), (11529,), (11550,), (12501,), (13389,), (14899,), (52413,), (6945,), (10134,), (11046,), (11274,), (11747,), (12583,), (12890,), (10293,), (11016,), (10281,), (10203,), (1001461,), (14635,)]\n"
     ]
    }
   ],
   "source": [
    "import sqlite3\n",
    "con = sqlite3.connect('../Database/MeasurementAndProbesbo.db')\n",
    "\n",
    "cur = con.cursor()\n",
    "\n",
    "cur.execute(\"select DISTINCT prb_id from Results\")\n",
    "a = cur.fetchall() \n",
    "print(a)\n",
    "con.close()"
   ]
  },
  {
   "cell_type": "markdown",
   "metadata": {},
   "source": [
    "'SELECT name from sqlite_master where type= \"table\"'"
   ]
  },
  {
   "cell_type": "code",
   "execution_count": 7,
   "metadata": {},
   "outputs": [
    {
     "name": "stdout",
     "output_type": "stream",
     "text": [
      "('32396563', '154.25.12.145', '82.64.170.202', '2021-10-01', 'ping', 24584, 251, 28.3751)\n"
     ]
    }
   ],
   "source": [
    "con = sqlite3.connect('../Database/MeasurementsRIPEAtlas.db')\n",
    "cur = con.cursor()\n",
    "cur.execute('select * from Results')\n",
    "a = cur.fetchall() \n",
    "print(a[0])\n",
    "con.close()"
   ]
  },
  {
   "cell_type": "code",
   "execution_count": 4,
   "metadata": {},
   "outputs": [
    {
     "name": "stdout",
     "output_type": "stream",
     "text": [
      "[('MeasurementsNoProcessed',), ('AllMeasurementsDone',), ('Results',)]\n"
     ]
    }
   ],
   "source": [
    "con = sqlite3.connect('../Database/MeasurementsRIPEAtlas.db')\n",
    "cur = con.cursor()\n",
    "cur.execute('SELECT name from sqlite_master where type= \"table\"')\n",
    "a = cur.fetchall() \n",
    "print(a)\n",
    "con.close()"
   ]
  },
  {
   "cell_type": "code",
   "execution_count": 11,
   "metadata": {},
   "outputs": [],
   "source": [
    "con = sqlite3.connect('../Database/MeasurementsRIPEAtlas.db')\n",
    "cur = con.cursor()\n",
    "cur.execute('select * from AllMeasurementsDone')\n",
    "a = cur.fetchall()\n",
    "con.close()\n",
    "\n",
    "con = sqlite3.connect('../Database/MeasurementsRIPEAtlas.db')\n",
    "cur = con.cursor()\n",
    "for i in a:\n",
    "    cur.execute(\"INSERT INTO MeasurementsNoProcessed VALUES (?,?,?,?)\", (i))\n",
    "con.commit()\n",
    "con.close()"
   ]
  },
  {
   "cell_type": "code",
   "execution_count": null,
   "metadata": {},
   "outputs": [],
   "source": []
  }
 ],
 "metadata": {
  "interpreter": {
   "hash": "31f2aee4e71d21fbe5cf8b01ff0e069b9275f58929596ceb00d14d90e3e16cd6"
  },
  "kernelspec": {
   "display_name": "Python 3",
   "language": "python",
   "name": "python3"
  },
  "language_info": {
   "codemirror_mode": {
    "name": "ipython",
    "version": 3
   },
   "file_extension": ".py",
   "mimetype": "text/x-python",
   "name": "python",
   "nbconvert_exporter": "python",
   "pygments_lexer": "ipython3",
   "version": "3.6.9"
  },
  "orig_nbformat": 4
 },
 "nbformat": 4,
 "nbformat_minor": 2
}
