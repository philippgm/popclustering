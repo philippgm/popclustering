{
 "cells": [
  {
   "cell_type": "markdown",
   "metadata": {},
   "source": [
    "Código para encontrar as probes identificáveis.\n",
    "Probes que utilizaram somente um eDNS.\n",
    "Resultado está no arquivo \"edns2probes\""
   ]
  },
  {
   "cell_type": "code",
   "execution_count": 2,
   "metadata": {},
   "outputs": [],
   "source": [
    "import json\n",
    "import numpy as np\n",
    "def tratamento_ednsEprobes(path):\n",
    "    with open(path,'r') as g:\n",
    "        j = json.load(g)\n",
    "        edns2probes = j[\"edns2probes\"]\n",
    "        probe2edns = j[\"probe2edns\"]\n",
    "        single_edns = dict((edns, probes.pop()) for edns, probes in edns2probes.items() if len(set(probes)) == 1)\n",
    "        single_probes = dict((probes, edns.pop()) for probes,edns in probe2edns.items() if len(set(edns)) == 1)\n",
    "        g = []\n",
    "        for each in single_probes:\n",
    "            if single_probes[each] in single_edns:\n",
    "                g.append(int(each))\n",
    "\n",
    "        return g\n",
    "path = []\n",
    "path.append(\"../../experiment-data/1617033395/edns-info.json\")\n",
    "probes = open(\"edns2probes\",'w')\n",
    "saida = []\n",
    "for i in range(len(path)):\n",
    "    saida = saida + tratamento_ednsEprobes(path[i])\n",
    "lista_a = list(np.unique(np.array(saida)))\n",
    "print(lista_a,file =probes)\n",
    "probes.close()\n",
    "\n",
    "# https://docs.google.com/spreadsheets/d/1UR3WW5hqtfH1jMJuFyMw-wS7CMcFU2i3FKrmppDt9u4/edit#gid=0"
   ]
  },
  {
   "cell_type": "code",
   "execution_count": 17,
   "metadata": {},
   "outputs": [],
   "source": [
    "import json\n",
    "import numpy as np\n",
    "def tratamento_resolverEprobes(path):\n",
    "    with open(path,'r') as g:\n",
    "        j = json.load(g)\n",
    "        resolver2probes = j[\"resolver2probes\"]\n",
    "        probe2resolver = j[\"probe2resolvers\"]\n",
    "        \n",
    "        single_resolver = dict((resolver, probes.pop()) for resolver, probes in resolver2probes.items() if len(set(probes)) == 1)\n",
    "        single_probes = dict((probes, resolver.pop()) for probes,resolver in probe2resolver.items() if len(set(resolver)) == 1)\n",
    "        g = []\n",
    "        files = open(\"resolver2probes\",'w')\n",
    "        for each in single_probes:\n",
    "            if single_probes[each] in single_resolver:\n",
    "                if(int(each) == int(single_resolver[single_probes[each]])):\n",
    "                    files.write(each+'/t'+single_probes[each]+'\\n')\n",
    "        files.close()\n",
    "                    \n",
    "\n",
    "\n",
    "path = \"../../experiment-data/1617033395/edns-info.json\"\n",
    "tratamento_resolverEprobes(path)\n",
    "\n"
   ]
  },
  {
   "cell_type": "markdown",
   "metadata": {},
   "source": []
  },
  {
   "cell_type": "code",
   "execution_count": 1,
   "metadata": {},
   "outputs": [],
   "source": [
    "import requests\n",
    "import json\n",
    "\n",
    "url = 'https://atlas.ripe.net:443/api/v2/probes/?status=1'\n",
    "probes_on = list()\n",
    "\n",
    "resposta = requests.get(url)\n",
    "resposta = resposta.json()\n",
    "# print(json.dumps(resposta,indent=4))\n",
    "proximo = resposta[\"next\"]\n",
    "while(proximo != None):\n",
    "    result = resposta[\"results\"]\n",
    "    for each in result:\n",
    "        probes_on.append(each[\"id\"])\n",
    "    url = proximo\n",
    "    resposta = requests.get(url)\n",
    "    resposta = resposta.json()\n",
    "    result = resposta[\"results\"]\n",
    "    proximo = resposta[\"next\"]\n",
    "    \n",
    "\n",
    "#print(probes)"
   ]
  },
  {
   "cell_type": "code",
   "execution_count": 49,
   "metadata": {},
   "outputs": [
    {
     "name": "stdout",
     "output_type": "stream",
     "text": [
      "11800\n"
     ]
    }
   ],
   "source": [
    "print(len(probes_on))"
   ]
  },
  {
   "cell_type": "code",
   "execution_count": null,
   "metadata": {},
   "outputs": [],
   "source": [
    "aux = {}\n",
    "aux2 = {}\n",
    "for i in lista:\n",
    "    aux[i] = 1\n",
    "aux3 = []\n",
    "for i in lista_a:\n",
    "    if i in aux:\n",
    "        aux3.append(i)\n",
    "print(aux3)"
   ]
  },
  {
   "cell_type": "code",
   "execution_count": 47,
   "metadata": {},
   "outputs": [],
   "source": [
    "import json\n",
    "def edns2resolver2probes(path):\n",
    "    with open(path,'r') as arquivo:\n",
    "        j = json.load(arquivo)\n",
    "        edns2resolver2probes = j[\"edns2resolver2probes\"]\n",
    "        saida = dict()\n",
    "        repeat_probes = set()\n",
    "        single_probes = set()\n",
    "\n",
    "        for edns,resolver2probes in edns2resolver2probes.items():\n",
    "            for resolver,probes in resolver2probes.items():\n",
    "                if len(set(probes)) == 1:\n",
    "                    probes = probes.pop()\n",
    "                    if ((probes not in single_probes) and (probes not in repeat_probes) and (probes in probes_on)):\n",
    "                        single_probes.add(probes)\n",
    "                        saida[probes] = list([edns,resolver])\n",
    "\n",
    "                        \n",
    "                    else:\n",
    "                        if (probes in single_probes):\n",
    "                            single_probes.remove(probes)\n",
    "                            del saida[probes]\n",
    "                            repeat_probes.add(probes)\n",
    "                else:\n",
    "                    repeat_probes.union(set(probes))\n",
    "\n",
    "        with open(\"probes_identificaveis.txt\",'w') as ff:\n",
    "            for i,l in saida.items():\n",
    "                print(i,file=ff)\n",
    "        with open(\"pdns.prb\",'w') as fg:\n",
    "            for i,l in saida.items():\n",
    "                fg.write(str(i)+\"\\t\"+l[1]+\"\\t\"+l[0]+\"\\n\")\n",
    "\n",
    "\n",
    "path = \"../../experiment-data/1617033395/edns-info.json\"\n",
    "asdf = set()\n",
    "a = 0\n",
    "edns2resolver2probes(path)\n",
    "\n",
    "\n",
    "\n",
    "\n",
    "# with open(\"edns2rsolver2probes\",'w') as probes:\n",
    "#     numb = edns2resolver2probes(path)\n",
    "#     for each in numb:\n",
    "#         a = a +1\n",
    "#         asdf.add(each[0])\n",
    "#         print(str(each[0])+'\\\\t'+each[1]+\"\\\\t\"+each[2],file=probes)\n",
    "\n",
    "# with open(\"probes_identificaveis.txt\",'w') as prode_ident:\n",
    "#     for each in asdf:\n",
    "#         print(str(each),file=prode_ident)\n",
    "# https://docs.google.com/spreadsheets/d/1UR3WW5hqtfH1jMJuFyMw-wS7CMcFU2i3FKrmppDt9u4/edit#gid=0"
   ]
  },
  {
   "cell_type": "code",
   "execution_count": 23,
   "metadata": {},
   "outputs": [
    {
     "name": "stdout",
     "output_type": "stream",
     "text": [
      "48944\n",
      "48944\n"
     ]
    },
    {
     "name": "stderr",
     "output_type": "stream",
     "text": [
      "100%|██████████| 48944/48944 [07:49<00:00, 104.16it/s] \n"
     ]
    }
   ],
   "source": [
    "import tqdm\n",
    "aux = dict()\n",
    "print(len(numb))\n",
    "for i,j,k in numb:\n",
    "    aux[(j,k)] = i\n",
    "    # aux[i] = (j,k)\n",
    "print(len(aux))\n",
    "if i in aux:\n",
    "    print(\"ola\")\n",
    "\n",
    "for i in tqdm.tqdm(range(len(numb))):\n",
    "    p = numb.pop()\n",
    "    for j in numb:\n",
    "        if (j[1],j[2]) == (p[1],p[2]):\n",
    "            print(\"Avohai\")\n"
   ]
  }
 ],
 "metadata": {
  "interpreter": {
   "hash": "31f2aee4e71d21fbe5cf8b01ff0e069b9275f58929596ceb00d14d90e3e16cd6"
  },
  "kernelspec": {
   "display_name": "Python 3.6.9 64-bit",
   "name": "python3"
  },
  "language_info": {
   "codemirror_mode": {
    "name": "ipython",
    "version": 3
   },
   "file_extension": ".py",
   "mimetype": "text/x-python",
   "name": "python",
   "nbconvert_exporter": "python",
   "pygments_lexer": "ipython3",
   "version": "3.6.9"
  },
  "orig_nbformat": 4
 },
 "nbformat": 4,
 "nbformat_minor": 2
}
